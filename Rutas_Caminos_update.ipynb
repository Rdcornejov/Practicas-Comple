{
  "nbformat": 4,
  "nbformat_minor": 0,
  "metadata": {
    "colab": {
      "name": "Rutas_Caminos.ipynb",
      "provenance": [],
      "collapsed_sections": [],
      "authorship_tag": "ABX9TyOeU9UxdbJ66kTIW7QFTpAg",
      "include_colab_link": true
    },
    "kernelspec": {
      "name": "python3",
      "display_name": "Python 3"
    },
    "language_info": {
      "name": "python"
    }
  },
  "cells": [
    {
      "cell_type": "markdown",
      "metadata": {
        "id": "view-in-github",
        "colab_type": "text"
      },
      "source": [
        "<a href=\"https://colab.research.google.com/github/ronaldo91929-glic/Practicas-Comple/blob/main/Rutas_Caminos_update.ipynb\" target=\"_parent\"><img src=\"https://colab.research.google.com/assets/colab-badge.svg\" alt=\"Open In Colab\"/></a>"
      ]
    },
    {
      "cell_type": "code",
      "metadata": {
        "id": "EZNM0utggaQ_"
      },
      "source": [
        "def ramas(parent,s):\n",
        "  ramas = []\n",
        "  maze = [s]\n",
        "  n = len(parent)\n",
        "  def avanzar(parent,u):\n",
        "    entra = False\n",
        "    for i in range(n):\n",
        "      if u == parent[i]:\n",
        "        maze.append(i)\n",
        "        entra = True\n",
        "        avanzar(parent,i)\n",
        "        maze.pop(-1)\n",
        "    if entra == False:\n",
        "      ramas.append(maze.copy())\n",
        "  avanzar(parent,s)\n",
        "  return ramas"
      ],
      "execution_count": null,
      "outputs": []
    },
    {
      "cell_type": "code",
      "metadata": {
        "id": "5WMm3F_wgjDR"
      },
      "source": [
        "def ruta(parent,s,f):\n",
        "  maze = [s]\n",
        "  ruta = []\n",
        "  n = len(parent)\n",
        "  def avanzar(parent,u,f):\n",
        "    if u == f:\n",
        "      ruta.append(maze.copy()) #Pongo esto en vez del igual, porque no guarda xd\n",
        "      return\n",
        "    for i in range(n):\n",
        "      if u == parent[i]:\n",
        "        maze.append(i)\n",
        "        entra = True\n",
        "        avanzar(parent,i,f)\n",
        "        maze.pop(-1)\n",
        "  avanzar(parent,s,f)\n",
        "  return ruta[0] #Como puse esto en vez del igual, retorno la ruta noma pe"
      ],
      "execution_count": null,
      "outputs": []
    },
    {
      "cell_type": "code",
      "metadata": {
        "id": "rkiNqG2lBO1h"
      },
      "source": [
        "def todas_rutas(parent,s):\n",
        "  def ruta(parent,s,f):\n",
        "    maze = [s]\n",
        "    ruta = []\n",
        "    n = len(parent)\n",
        "    def avanzar(parent,u,f):\n",
        "      if u == f:\n",
        "        ruta.append(maze.copy()) #Pongo esto en vez del igual, porque no guarda xd\n",
        "        return\n",
        "      for i in range(n):\n",
        "        if u == parent[i]:\n",
        "          maze.append(i)\n",
        "          entra = True\n",
        "          avanzar(parent,i,f)\n",
        "          maze.pop(-1)\n",
        "    avanzar(parent,s,f)\n",
        "    return ruta[0]\n",
        "  n = len(parent)\n",
        "  rutas = []\n",
        "  for i in range(n):\n",
        "    rutas.append(ruta(parent,s,i))\n",
        "  return rutas"
      ],
      "execution_count": null,
      "outputs": []
    }
  ]
}