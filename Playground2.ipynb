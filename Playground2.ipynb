{
  "nbformat": 4,
  "nbformat_minor": 0,
  "metadata": {
    "colab": {
      "name": "Playground2.ipynb",
      "provenance": [],
      "include_colab_link": true
    },
    "kernelspec": {
      "name": "python3",
      "display_name": "Python 3"
    },
    "language_info": {
      "name": "python"
    }
  },
  "cells": [
    {
      "cell_type": "markdown",
      "metadata": {
        "id": "view-in-github",
        "colab_type": "text"
      },
      "source": [
        "<a href=\"https://colab.research.google.com/github/ronaldo91929-glic/Practicas-Comple/blob/main/Playground2.ipynb\" target=\"_parent\"><img src=\"https://colab.research.google.com/assets/colab-badge.svg\" alt=\"Open In Colab\"/></a>"
      ]
    },
    {
      "cell_type": "markdown",
      "metadata": {
        "id": "PiTjE15huJnK"
      },
      "source": [
        "# Playground 2\n",
        "\n",
        "Grafitos\n",
        "\n"
      ]
    },
    {
      "cell_type": "markdown",
      "metadata": {
        "id": "wTQVE8Edv4-b"
      },
      "source": [
        "## Problemas\n",
        "\n",
        "1. (3 puntos) Implementa una función que reciba una lista de adyacencia y retorne verdadero si el grafo correspondiente es no dirigido.\n",
        "\n",
        "2. (3 puntos) Implemente una función que reciba una matriz de adyacencia y retorne el número total de aristas.\n",
        "\n",
        "Al finalizar copie el código **desde la línea 2** en adelante al archivo `grafos.py`"
      ]
    },
    {
      "cell_type": "code",
      "metadata": {
        "id": "7NNPN6Vp11jq",
        "outputId": "9921604d-9967-4493-830e-af7e3dd76cb1",
        "colab": {
          "base_uri": "https://localhost:8080/"
        }
      },
      "source": [
        "%%file tercero.py\n",
        "import numpy as np\n",
        "\n",
        "def isNotDirected(G):\n",
        "  def lista_a_matriz(L):\n",
        "    n = len(L)\n",
        "    matriz = [[0]*n]*n\n",
        "    M = np.array(matriz)\n",
        "    for u in range(n):\n",
        "      for e in L[u]:\n",
        "        M[u][e] = 1\n",
        "    return M \n",
        "  M = lista_a_matriz(G)\n",
        "  m = M.copy()\n",
        "\n",
        "  n = len(m)\n",
        "  for f in range(n):\n",
        "    for c in range(n):\n",
        "      m[f,c] = M[c,f]\n",
        "\n",
        "  for f in range(n):\n",
        "    for c in range(n):\n",
        "      if m[f,c] != M[f,c]:\n",
        "        return False\n",
        "  return True\n",
        "\n",
        "def edgeCounter(G):\n",
        "  n = len(G)\n",
        "  cont = 0\n",
        "  for u in range(n):\n",
        "    for v in range(n):\n",
        "      if u!= v and G[u][v] == 1:\n",
        "        cont += 1\n",
        "      \n",
        "  return cont"
      ],
      "execution_count": 7,
      "outputs": [
        {
          "output_type": "stream",
          "name": "stdout",
          "text": [
            "Overwriting tercero.py\n"
          ]
        }
      ]
    },
    {
      "cell_type": "markdown",
      "metadata": {
        "id": "4N_xEKTh2iwa"
      },
      "source": [
        "## Casos de prueba\n",
        "\n",
        "Ejecuta las celdas siguientes por lo menos una vez antes de ejecutar los casos de prueba."
      ]
    },
    {
      "cell_type": "code",
      "metadata": {
        "id": "BbYOtVTE17lS",
        "outputId": "d3af5bd0-0b12-4d77-bb73-1bf862011200",
        "colab": {
          "base_uri": "https://localhost:8080/"
        }
      },
      "source": [
        "%%file tercero_test.py\n",
        "import tercero as t;\n",
        "\n",
        "def test_isNotDirected1():\n",
        "  G = [[1, 2, 3],\n",
        "       [0, 3],\n",
        "       [0],\n",
        "       [0, 1]]\n",
        "  assert t.isNotDirected(G) == True\n",
        "\n",
        "def test_isNotDirected2():\n",
        "  G = [[1, 2],\n",
        "       [0, 3],\n",
        "       [0, 3],\n",
        "       [0, 1]]\n",
        "  assert t.isNotDirected(G) == False\n",
        "\n",
        "def test_edgeCounter1():\n",
        "  G = [[0, 1, 0, 1],\n",
        "       [0, 0, 1, 0],\n",
        "       [0, 0, 0, 0],\n",
        "       [0, 0, 1, 0]]\n",
        "  assert t.edgeCounter(G) == 4\n",
        "\n",
        "def test_edgeCounter2():\n",
        "  G = [[0, 1, 0, 1],\n",
        "       [0, 0, 1, 0],\n",
        "       [1, 0, 0, 0],\n",
        "       [0, 0, 1, 0]]\n",
        "  assert t.edgeCounter(G) == 5"
      ],
      "execution_count": 5,
      "outputs": [
        {
          "output_type": "stream",
          "name": "stdout",
          "text": [
            "Overwriting tercero_test.py\n"
          ]
        }
      ]
    },
    {
      "cell_type": "markdown",
      "metadata": {
        "id": "3RiUpMWQfmrE"
      },
      "source": [
        "### Ejecuta esta celda para verificar tus respuestas.\n",
        "Cuando estés conforme, no olvides copiar el código indicado en los archivos correspondientes."
      ]
    },
    {
      "cell_type": "code",
      "metadata": {
        "id": "DnHXIhH0xcUW",
        "outputId": "b0914447-6ad9-4437-c4e7-64941cbe127f",
        "colab": {
          "base_uri": "https://localhost:8080/"
        }
      },
      "source": [
        "!python -m pytest -v"
      ],
      "execution_count": 8,
      "outputs": [
        {
          "output_type": "stream",
          "name": "stdout",
          "text": [
            "\u001b[1m============================= test session starts ==============================\u001b[0m\n",
            "platform linux -- Python 3.7.12, pytest-3.6.4, py-1.10.0, pluggy-0.7.1 -- /usr/bin/python3\n",
            "cachedir: .pytest_cache\n",
            "rootdir: /content, inifile:\n",
            "plugins: typeguard-2.7.1\n",
            "\u001b[1m\rcollecting 0 items                                                             \u001b[0m\u001b[1m\rcollecting 4 items                                                             \u001b[0m\u001b[1m\rcollected 4 items                                                              \u001b[0m\n",
            "\n",
            "tercero_test.py::test_isNotDirected1 \u001b[32mPASSED\u001b[0m\u001b[36m                              [ 25%]\u001b[0m\n",
            "tercero_test.py::test_isNotDirected2 \u001b[32mPASSED\u001b[0m\u001b[36m                              [ 50%]\u001b[0m\n",
            "tercero_test.py::test_edgeCounter1 \u001b[32mPASSED\u001b[0m\u001b[36m                                [ 75%]\u001b[0m\n",
            "tercero_test.py::test_edgeCounter2 \u001b[32mPASSED\u001b[0m\u001b[36m                                [100%]\u001b[0m\n",
            "\n",
            "\u001b[32m\u001b[1m=========================== 4 passed in 0.13 seconds ===========================\u001b[0m\n"
          ]
        }
      ]
    }
  ]
}