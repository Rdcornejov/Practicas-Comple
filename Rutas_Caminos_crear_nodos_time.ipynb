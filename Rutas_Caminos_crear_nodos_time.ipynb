{
  "nbformat": 4,
  "nbformat_minor": 0,
  "metadata": {
    "colab": {
      "name": "Rutas_Caminos_crear_nodos_time.ipynb",
      "provenance": [],
      "collapsed_sections": [],
      "authorship_tag": "ABX9TyOXOBE0lOGIPtP2SLXQHVEE",
      "include_colab_link": true
    },
    "kernelspec": {
      "name": "python3",
      "display_name": "Python 3"
    },
    "language_info": {
      "name": "python"
    }
  },
  "cells": [
    {
      "cell_type": "markdown",
      "metadata": {
        "id": "view-in-github",
        "colab_type": "text"
      },
      "source": [
        "<a href=\"https://colab.research.google.com/github/ronaldo91929-glic/Practicas-Comple/blob/main/Rutas_Caminos_crear_nodos_time.ipynb\" target=\"_parent\"><img src=\"https://colab.research.google.com/assets/colab-badge.svg\" alt=\"Open In Colab\"/></a>"
      ]
    },
    {
      "cell_type": "code",
      "metadata": {
        "id": "EZNM0utggaQ_"
      },
      "source": [
        "def ramas(parent,s):\n",
        "  ramas = []\n",
        "  maze = [s]\n",
        "  n = len(parent)\n",
        "  def avanzar(parent,u):\n",
        "    entra = False\n",
        "    for i in range(n):\n",
        "      if u == parent[i]:\n",
        "        maze.append(i)\n",
        "        entra = True\n",
        "        avanzar(parent,i)\n",
        "        maze.pop(-1)\n",
        "    if entra == False:\n",
        "      ramas.append(maze.copy())\n",
        "  avanzar(parent,s)\n",
        "  return ramas"
      ],
      "execution_count": null,
      "outputs": []
    },
    {
      "cell_type": "code",
      "metadata": {
        "id": "5WMm3F_wgjDR"
      },
      "source": [
        "def ruta(parent,s,f):\n",
        "  maze = [s]\n",
        "  ruta = []\n",
        "  n = len(parent)\n",
        "  def avanzar(parent,u,f):\n",
        "    if u == f:\n",
        "      ruta.append(maze.copy()) #Pongo esto en vez del igual, porque no guarda xd\n",
        "      return\n",
        "    for i in range(n):\n",
        "      if u == parent[i]:\n",
        "        maze.append(i)\n",
        "        entra = True\n",
        "        avanzar(parent,i,f)\n",
        "        maze.pop(-1)\n",
        "  avanzar(parent,s,f)\n",
        "  return ruta[0] #Como puse esto en vez del igual, retorno la ruta noma pe"
      ],
      "execution_count": null,
      "outputs": []
    },
    {
      "cell_type": "code",
      "metadata": {
        "id": "rkiNqG2lBO1h"
      },
      "source": [
        "def todas_rutas(parent,s):\n",
        "  def ruta(parent,s,f):\n",
        "    maze = [s]\n",
        "    ruta = []\n",
        "    n = len(parent)\n",
        "    def avanzar(parent,u,f):\n",
        "      if u == f:\n",
        "        ruta.append(maze.copy()) #Pongo esto en vez del igual, porque no guarda xd\n",
        "        return\n",
        "      for i in range(n):\n",
        "        if u == parent[i]:\n",
        "          maze.append(i)\n",
        "          entra = True\n",
        "          avanzar(parent,i,f)\n",
        "          maze.pop(-1)\n",
        "    avanzar(parent,s,f)\n",
        "    return ruta[0]\n",
        "  n = len(parent)\n",
        "  rutas = []\n",
        "  for i in range(n):\n",
        "    rutas.append(ruta(parent,s,i))\n",
        "  return rutas"
      ],
      "execution_count": null,
      "outputs": []
    },
    {
      "cell_type": "code",
      "metadata": {
        "id": "xWbT00qMHCwm"
      },
      "source": [
        "import random\n",
        "import numpy as np\n",
        "\n",
        "def gennm(n,m):\n",
        "  x = np.random.randint(0,1000,(n))\n",
        "  s = np.sum(x)\n",
        "  x = x/s\n",
        "  x = np.round(x*m)\n",
        "  return x\n",
        "\n",
        "def randomG(n,m):\n",
        "  G = [None for _ in range(n)]\n",
        "  nodes = [i for i in range(n)]\n",
        "  mis = gennm(n,m)\n",
        "  for u, mi in enumerate(mis):\n",
        "    subnodes = nodes[:u]+nodes[u+1:]\n",
        "    #print(len(subnodes),mi)\n",
        "    G[u] = random.sample(subnodes,int(mi))\n",
        "  \n",
        "  return G"
      ],
      "execution_count": 10,
      "outputs": []
    },
    {
      "cell_type": "code",
      "metadata": {
        "colab": {
          "base_uri": "https://localhost:8080/"
        },
        "id": "SdU4gE2yKyxQ",
        "outputId": "84506917-3c82-41f3-cbd0-78f52dc5fda9"
      },
      "source": [
        "import time\n",
        "cont = 0\n",
        "for _ in range(20):\n",
        "  ini = time.time()\n",
        "  Gi = randomG(50,100)\n",
        "  fin = time.time()\n",
        "  tiempo = fin-ini\n",
        "  print(tiempo)\n",
        "  cont += tiempo\n",
        "\n",
        "print(\"promedio\",cont/20)"
      ],
      "execution_count": 25,
      "outputs": [
        {
          "output_type": "stream",
          "name": "stdout",
          "text": [
            "0.0009846687316894531\n",
            "0.0007641315460205078\n",
            "0.0008535385131835938\n",
            "0.0006737709045410156\n",
            "0.0010635852813720703\n",
            "0.0012290477752685547\n",
            "0.00046372413635253906\n",
            "0.00047850608825683594\n",
            "0.00039839744567871094\n",
            "0.0004019737243652344\n",
            "0.00044989585876464844\n",
            "0.0005955696105957031\n",
            "0.0004401206970214844\n",
            "0.00043201446533203125\n",
            "0.00042319297790527344\n",
            "0.0004029273986816406\n",
            "0.00042629241943359375\n",
            "0.000396728515625\n",
            "0.00044083595275878906\n",
            "0.0004715919494628906\n",
            "promedio 0.0005895256996154785\n"
          ]
        }
      ]
    }
  ]
}