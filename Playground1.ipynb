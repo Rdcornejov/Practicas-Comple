{
  "nbformat": 4,
  "nbformat_minor": 0,
  "metadata": {
    "colab": {
      "name": "playground1.ipynb",
      "provenance": [],
      "include_colab_link": true
    },
    "kernelspec": {
      "name": "python3",
      "display_name": "Python 3"
    },
    "language_info": {
      "name": "python"
    }
  },
  "cells": [
    {
      "cell_type": "markdown",
      "metadata": {
        "id": "view-in-github",
        "colab_type": "text"
      },
      "source": [
        "<a href=\"https://colab.research.google.com/github/ronaldo91929-glic/Practicas-Comple/blob/main/Playground1.ipynb\" target=\"_parent\"><img src=\"https://colab.research.google.com/assets/colab-badge.svg\" alt=\"Open In Colab\"/></a>"
      ]
    },
    {
      "cell_type": "markdown",
      "metadata": {
        "id": "PiTjE15huJnK"
      },
      "source": [
        "# Playground 1\n",
        "\n",
        "Python básico\n",
        "\n"
      ]
    },
    {
      "cell_type": "markdown",
      "metadata": {
        "id": "wTQVE8Edv4-b"
      },
      "source": [
        "## Funciones (3 puntos)\n",
        "\n",
        "Implementa una función que reciba una lista y la ordene descendentemente.\n",
        "\n",
        "Al finalizar copie el código **desde la línea 2** en adelante al archivo `funciones.py`"
      ]
    },
    {
      "cell_type": "code",
      "metadata": {
        "id": "7NNPN6Vp11jq",
        "outputId": "53fc0c0c-02da-4f74-fea4-08b0167b562d",
        "colab": {
          "base_uri": "https://localhost:8080/"
        }
      },
      "source": [
        "%%file primero.py\n",
        "\n",
        "def inverseSort(a): # No cambiar el nombre de la función ni parámetros\n",
        "  a.sort(reverse = True)"
      ],
      "execution_count": 1,
      "outputs": [
        {
          "output_type": "stream",
          "name": "stdout",
          "text": [
            "Writing primero.py\n"
          ]
        }
      ]
    },
    {
      "cell_type": "markdown",
      "metadata": {
        "id": "6W8WIsEUkWXZ"
      },
      "source": [
        "## Diccionarios (3 puntos)\n",
        "\n",
        "Implementa una función que reciba un texto y **retorne** un diccionario indicando cuantas veces se repite cada letra del abecedario. Solo se proporcionan textos en minúsculas y sin tildes ni caracteres especiales.\n",
        "\n",
        "Por ejemplo, si se proporciona el texto `\"mi mama\"` deberá retornar `{\"m\": 3, \"a\": 2, \"i\": 1}`\n",
        "\n",
        "Al finalizar copie el código **desde la línea 2** en adelante al archivo `diccionario.py`"
      ]
    },
    {
      "cell_type": "code",
      "metadata": {
        "id": "C6ViNyj7kUEi",
        "outputId": "0d198a22-0665-4e84-da2a-307caab9c685",
        "colab": {
          "base_uri": "https://localhost:8080/"
        }
      },
      "source": [
        "%%file segundo.py\n",
        "\n",
        "def contarLetras(a): # No cambiar el nombre de la función ni parámetros\n",
        "  pal = list(a)\n",
        "  dic = dict()\n",
        "  for elem in pal:\n",
        "    if elem != \" \":\n",
        "      dic[elem] = dic.get(elem,0)+1\n",
        "  \n",
        "  return dic"
      ],
      "execution_count": 2,
      "outputs": [
        {
          "output_type": "stream",
          "name": "stdout",
          "text": [
            "Writing segundo.py\n"
          ]
        }
      ]
    },
    {
      "cell_type": "markdown",
      "metadata": {
        "id": "4N_xEKTh2iwa"
      },
      "source": [
        "## Casos de prueba\n",
        "\n",
        "Ejecuta las celdas siguientes por lo menos una vez antes de ejecutar los casos de prueba."
      ]
    },
    {
      "cell_type": "code",
      "metadata": {
        "id": "BbYOtVTE17lS",
        "outputId": "61844952-2dc9-443a-e082-dcd43263c3b2",
        "colab": {
          "base_uri": "https://localhost:8080/"
        }
      },
      "source": [
        "%%file primero_test.py\n",
        "import primero as p;\n",
        "\n",
        "def test_inverseSort1():\n",
        "  a = [1, 2, 3, 4, 5]\n",
        "  p.inverseSort(a)\n",
        "  assert a == [5, 4, 3, 2, 1]\n",
        "\n",
        "def test_inverseSort2():\n",
        "  a = \"h o l a\".split()\n",
        "  p.inverseSort(a)\n",
        "  assert a == [\"o\", \"l\", \"h\", \"a\"]"
      ],
      "execution_count": 3,
      "outputs": [
        {
          "output_type": "stream",
          "name": "stdout",
          "text": [
            "Writing primero_test.py\n"
          ]
        }
      ]
    },
    {
      "cell_type": "code",
      "metadata": {
        "id": "icCBZ_NHrmYa",
        "outputId": "2372d04d-a137-43dc-b4a5-05868888604f",
        "colab": {
          "base_uri": "https://localhost:8080/"
        }
      },
      "source": [
        "%%file segundo_test.py\n",
        "import segundo as s;\n",
        "\n",
        "def test_contarLetras1():\n",
        "    assert s.contarLetras(\"mi mama\") == {\"m\": 3, \"a\": 2, \"i\": 1}\n",
        "\n",
        "def test_contarLetras2():\n",
        "    assert s.contarLetras(\"aaabbbccabc\") == {\"a\": 4, \"b\": 4, \"c\": 3}"
      ],
      "execution_count": 4,
      "outputs": [
        {
          "output_type": "stream",
          "name": "stdout",
          "text": [
            "Writing segundo_test.py\n"
          ]
        }
      ]
    },
    {
      "cell_type": "markdown",
      "metadata": {
        "id": "3RiUpMWQfmrE"
      },
      "source": [
        "### Ejecuta esta celda para verificar tus respuestas.\n",
        "Cuando estés conforme, no olvides copiar el código indicado en los archivos correspondientes."
      ]
    },
    {
      "cell_type": "code",
      "metadata": {
        "id": "DnHXIhH0xcUW",
        "outputId": "e0a0efea-3e48-44ed-eec0-7659a8e41f32",
        "colab": {
          "base_uri": "https://localhost:8080/"
        }
      },
      "source": [
        "!python -m pytest -v"
      ],
      "execution_count": 5,
      "outputs": [
        {
          "output_type": "stream",
          "name": "stdout",
          "text": [
            "\u001b[1m============================= test session starts ==============================\u001b[0m\n",
            "platform linux -- Python 3.7.12, pytest-3.6.4, py-1.10.0, pluggy-0.7.1 -- /usr/bin/python3\n",
            "cachedir: .pytest_cache\n",
            "rootdir: /content, inifile:\n",
            "plugins: typeguard-2.7.1\n",
            "\u001b[1m\rcollecting 0 items                                                             \u001b[0m\u001b[1m\rcollecting 2 items                                                             \u001b[0m\u001b[1m\rcollecting 4 items                                                             \u001b[0m\u001b[1m\rcollected 4 items                                                              \u001b[0m\n",
            "\n",
            "primero_test.py::test_inverseSort1 \u001b[32mPASSED\u001b[0m\u001b[36m                                [ 25%]\u001b[0m\n",
            "primero_test.py::test_inverseSort2 \u001b[32mPASSED\u001b[0m\u001b[36m                                [ 50%]\u001b[0m\n",
            "segundo_test.py::test_contarLetras1 \u001b[32mPASSED\u001b[0m\u001b[36m                               [ 75%]\u001b[0m\n",
            "segundo_test.py::test_contarLetras2 \u001b[32mPASSED\u001b[0m\u001b[36m                               [100%]\u001b[0m\n",
            "\n",
            "\u001b[32m\u001b[1m=========================== 4 passed in 0.05 seconds ===========================\u001b[0m\n"
          ]
        }
      ]
    }
  ]
}