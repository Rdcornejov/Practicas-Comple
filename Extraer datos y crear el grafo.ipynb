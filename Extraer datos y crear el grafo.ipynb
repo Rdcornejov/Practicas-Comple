{
  "nbformat": 4,
  "nbformat_minor": 0,
  "metadata": {
    "colab": {
      "name": "Algoritmo_extraer_datos.ipynb",
      "provenance": [],
      "authorship_tag": "ABX9TyOvDuTP+aCLD+mQhA8ntM/A",
      "include_colab_link": true
    },
    "kernelspec": {
      "name": "python3",
      "display_name": "Python 3"
    },
    "language_info": {
      "name": "python"
    }
  },
  "cells": [
    {
      "cell_type": "markdown",
      "metadata": {
        "id": "view-in-github",
        "colab_type": "text"
      },
      "source": [
        "<a href=\"https://colab.research.google.com/github/ronaldo91929-glic/Practicas-Comple/blob/main/Extraer%20datos%20y%20crear%20el%20grafo.ipynb\" target=\"_parent\"><img src=\"https://colab.research.google.com/assets/colab-badge.svg\" alt=\"Open In Colab\"/></a>"
      ]
    },
    {
      "cell_type": "markdown",
      "metadata": {
        "id": "Ds1J-RAfybqi"
      },
      "source": [
        "Leer archivo"
      ]
    },
    {
      "cell_type": "markdown",
      "metadata": {
        "id": "37FogyRO38je"
      },
      "source": [
        "Además, podemos conocer si es un punto de distribución con la lista \"conocer\", si retorna 1, entonces es un punto delivery. Si retorna 0, es un punto almacen."
      ]
    },
    {
      "cell_type": "code",
      "metadata": {
        "id": "uczN8Ss7x7DT"
      },
      "source": [
        "import csv\n",
        "\n",
        "def read_archivo(name):\n",
        "  date = []\n",
        "  with open(name) as f:\n",
        "    reader = csv.reader(f)\n",
        "    entro = False #Esto porque comienza con un x,y en el excel\n",
        "    for fila in reader:\n",
        "      if entro == True:\n",
        "        dato = []\n",
        "        dato.append(int(fila[0]))\n",
        "        dato.append(int(fila[1]))\n",
        "        date.append(dato)\n",
        "      entro = True\n",
        "  return date"
      ],
      "execution_count": 121,
      "outputs": []
    },
    {
      "cell_type": "code",
      "metadata": {
        "id": "dkgwIu3F4S2g"
      },
      "source": [
        "almacen = read_archivo(\"warehouses.csv\")\n",
        "distribucion = read_archivo(\"delivery-points.csv\")\n",
        "\n",
        "date = almacen+distribucion\n",
        "conocer = []\n",
        "for _ in range(len(almacen)):\n",
        "  conocer.append(0)\n",
        "for _ in range(len(almacen),len(almacen)+len(distribucion) ):\n",
        "  conocer.append(1)"
      ],
      "execution_count": 122,
      "outputs": []
    },
    {
      "cell_type": "markdown",
      "metadata": {
        "id": "GA_rDIcEYgIj"
      },
      "source": [
        "Creamos matriz de adyacencia"
      ]
    },
    {
      "cell_type": "code",
      "metadata": {
        "id": "KvvxbEg0oKiS"
      },
      "source": [
        "import numpy as np\n",
        "def crear_grafo(date):\n",
        "  n = len(date)\n",
        "  G = [[None]*n]*n\n",
        "  G = np.array(G)\n",
        "\n",
        "  for f in range(n):\n",
        "    for c in range(f+1,n):\n",
        "      x1,y1 = date[c][0],date[c][1]\n",
        "      x2,y2 = date[f][0],date[f][1]\n",
        "      d = ( ((x1-x2)**2) + ((y1-y2)**2) )**(0.5)\n",
        "      G[f,c] = d\n",
        "      G[c,f] = d\n",
        "\n",
        "  return G"
      ],
      "execution_count": 123,
      "outputs": []
    },
    {
      "cell_type": "code",
      "metadata": {
        "id": "vHfQO6j5ohKz"
      },
      "source": [
        "G = crear_grafo(date)"
      ],
      "execution_count": 124,
      "outputs": []
    },
    {
      "cell_type": "code",
      "metadata": {
        "id": "9t_DFn-k3ufl"
      },
      "source": [
        "print(conocer[75])"
      ],
      "execution_count": null,
      "outputs": []
    }
  ]
}